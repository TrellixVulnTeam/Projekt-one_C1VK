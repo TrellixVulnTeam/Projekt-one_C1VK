{
 "cells": [
  {
   "cell_type": "code",
   "execution_count": 2,
   "id": "c5385776",
   "metadata": {},
   "outputs": [],
   "source": [
    "# Making a basic bokeh line graph\n",
    "\n",
    "# importing bokeh\n",
    "from bokeh.plotting import figure\n",
    "from bokeh.io import output_file, show\n",
    "\n",
    "# prepare some data\n",
    "x=[1,2,3,4,5]\n",
    "y=[6,7,8,9,10]\n",
    "\n",
    "# prepare the output file\n",
    "output_file(\"Line_Graph.html\")\n",
    "\n",
    "# Make an object for figure\n",
    "f=figure()\n",
    "\n",
    "# use object to plot linegraph\n",
    "f.line(x,y)\n",
    "show(f)"
   ]
  },
  {
   "cell_type": "code",
   "execution_count": 6,
   "id": "1bd6b8b1",
   "metadata": {},
   "outputs": [],
   "source": [
    "x=[3,7.5,10]\n",
    "y=[3,6,9]\n",
    "output_file(\"Circle.html\")\n",
    "f=figure()\n",
    "f.circle(x,y)\n",
    "show(f)"
   ]
  },
  {
   "cell_type": "code",
   "execution_count": 7,
   "id": "504a517a",
   "metadata": {},
   "outputs": [],
   "source": [
    "x=[3,7.5,10]\n",
    "y=[3,6,9]\n",
    "output_file(\"Triangle.html\")\n",
    "f=figure()\n",
    "f.triangle(x,y)\n",
    "show(f)"
   ]
  },
  {
   "cell_type": "code",
   "execution_count": 14,
   "id": "ed069805",
   "metadata": {},
   "outputs": [],
   "source": [
    "# Making a basic bokeh line graph\n",
    "\n",
    "# importing bokeh and pandas\n",
    "from bokeh.plotting import figure\n",
    "from bokeh.io import output_file, show\n",
    "import pandas\n",
    "\n",
    "# prepare some data\n",
    "df=pandas.read_csv(\"data.csv\")\n",
    "x=df[\"x\"]\n",
    "y=df[\"y\"]\n",
    "\n",
    "# prepare the output file\n",
    "output_file(\"Line_fromcsv_Graph.html\")\n",
    "\n",
    "# Make an object for figure\n",
    "f=figure()\n",
    "\n",
    "# use object to plot linegraph\n",
    "f.line(x,y)\n",
    "show(f)"
   ]
  },
  {
   "cell_type": "code",
   "execution_count": 16,
   "id": "6b90e086",
   "metadata": {},
   "outputs": [
    {
     "data": {
      "text/plain": [
       "0     6\n",
       "1     7\n",
       "2     8\n",
       "3     9\n",
       "4    10\n",
       "Name: y, dtype: int64"
      ]
     },
     "execution_count": 16,
     "metadata": {},
     "output_type": "execute_result"
    }
   ],
   "source": [
    "df[\"y\"]"
   ]
  },
  {
   "cell_type": "code",
   "execution_count": 17,
   "id": "a8fdaefc",
   "metadata": {},
   "outputs": [],
   "source": [
    "# Making a basic bokeh line graph\n",
    "\n",
    "# importing bokeh and pandas\n",
    "from bokeh.plotting import figure\n",
    "from bokeh.io import output_file, show\n",
    "import pandas\n",
    "\n",
    "# prepare some data\n",
    "df=pandas.read_csv(\"bachelors.csv\")\n",
    "x=df[\"Year\"]\n",
    "y=df[\"Engineering\"]\n",
    "\n",
    "# prepare the output file\n",
    "output_file(\"Line_fromcsv_Graph2.html\")\n",
    "\n",
    "# Make an object for figure\n",
    "f=figure()\n",
    "\n",
    "# use object to plot linegraph\n",
    "f.line(x,y)\n",
    "show(f)"
   ]
  },
  {
   "cell_type": "code",
   "execution_count": 22,
   "id": "8aab9766",
   "metadata": {},
   "outputs": [],
   "source": [
    "# Making a basic bokeh line graph\n",
    "\n",
    "# importing bokeh and pandas\n",
    "from bokeh.plotting import figure\n",
    "from bokeh.io import output_file, show\n",
    "import pandas\n",
    "\n",
    "# prepare some data\n",
    "df=pandas.read_csv(\"bachelors.csv\")\n",
    "x=df[\"Year\"]\n",
    "y=df[\"Engineering\"]\n",
    "\n",
    "# prepare the output file\n",
    "output_file(\"Line_fromcsv_Graph2.html\")\n",
    "\n",
    "# Make an object for figure\n",
    "f=figure(plot_width=700,plot_height=700, tools='pan')\n",
    "f.title.text=\"Percentage of Women Degree Holders\"\n",
    "f.title.text_color=\"Gray\"\n",
    "f.title.text_font=\"times\"\n",
    "f.title.text_font_style=\"bold\"\n",
    "f.xaxis.minor_tick_line_color=None\n",
    "f.yaxis.minor_tick_line_color=None\n",
    "f.xaxis.axis_label=\"Year\"\n",
    "f.yaxis.axis_label=\"Engineering\"    \n",
    " \n",
    "# use object to plot linegraph\n",
    "f.line(x,y)\n",
    "show(f)"
   ]
  },
  {
   "cell_type": "code",
   "execution_count": 70,
   "id": "58bbcde8",
   "metadata": {},
   "outputs": [],
   "source": [
    "# Making a basic bokeh line graph\n",
    "\n",
    "# importing bokeh and pandas\n",
    "from bokeh.plotting import figure\n",
    "from bokeh.io import output_file, show\n",
    "import pandas\n",
    "\n",
    "# prepare some data\n",
    "df=pandas.read_excel(\"https://github.com/pythonizing/data/raw/master/verlegenhuken.xlsx\")\n",
    "x=df[\"Temperature\"]/10\n",
    "y=df[\"Pressure\"]/10\n",
    "\n",
    "# prepare the output file\n",
    "output_file(\"Line_fromexcel_Graph.html\")\n",
    "\n",
    "# Make an object for figure\n",
    "f=figure(plot_width=700,plot_height=700, tools='pan')\n",
    "f.title.text=\"Temperature and Air Pressure\"\n",
    "f.title.text_color=\"Gray\"\n",
    "f.title.text_font=\"comic sans\"\n",
    "f.title.text_font_style=\"bold\"\n",
    "f.xaxis.minor_tick_line_color=None\n",
    "f.yaxis.minor_tick_line_color=None\n",
    "f.xaxis.axis_label=\"Temeprature (°C)\"\n",
    "f.yaxis.axis_label=\"Pressure (hPa)\"    \n",
    " \n",
    "# use object to plot linegraph\n",
    "f.circle(x, y, size=0.75)\n",
    "show(f)"
   ]
  },
  {
   "cell_type": "code",
   "execution_count": 3,
   "id": "982bea5e",
   "metadata": {},
   "outputs": [],
   "source": [
    "from bokeh.plotting import figure\n",
    "from bokeh.io import output_file, show\n",
    "import pandas\n",
    "\n",
    "df1=pandas.read_csv(\"adbe.csv\", parse_dates=[\"Date\"])\n",
    "x=df1[\"Date\"]\n",
    "y=df1[\"Close\"]\n",
    "d=figure(plot_width=500,plot_height=500, x_axis_type=\"datetime\", sizing_mode=\"scale_width\")\n",
    "d.title.text=\"Stock Prices\"\n",
    "d.title.text_color=\"Gray\"\n",
    "d.title.text_font=\"comic sans\"\n",
    "d.title.text_font_style=\"bold\"\n",
    "d.xaxis.minor_tick_line_color=None\n",
    "d.yaxis.minor_tick_line_color=None\n",
    "d.xaxis.axis_label=\"Date\"\n",
    "d.yaxis.axis_label=\"Closing Price\"\n",
    "d.line(x, y, color=\"Blue\", alpha=0.75)\n",
    "output_file(\"Time_series plot.html\")\n",
    "show(d)"
   ]
  },
  {
   "cell_type": "code",
   "execution_count": null,
   "id": "33c3091c",
   "metadata": {},
   "outputs": [],
   "source": []
  }
 ],
 "metadata": {
  "kernelspec": {
   "display_name": "Python 3 (ipykernel)",
   "language": "python",
   "name": "python3"
  },
  "language_info": {
   "codemirror_mode": {
    "name": "ipython",
    "version": 3
   },
   "file_extension": ".py",
   "mimetype": "text/x-python",
   "name": "python",
   "nbconvert_exporter": "python",
   "pygments_lexer": "ipython3",
   "version": "3.9.7"
  }
 },
 "nbformat": 4,
 "nbformat_minor": 5
}
