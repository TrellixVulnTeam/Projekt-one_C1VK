{
 "cells": [
  {
   "cell_type": "code",
   "execution_count": 2,
   "id": "c5385776",
   "metadata": {},
   "outputs": [],
   "source": [
    "# Making a basic bokeh line graph\n",
    "\n",
    "# importing bokeh\n",
    "from bokeh.plotting import figure\n",
    "from bokeh.io import output_file, show\n",
    "\n",
    "# prepare some data\n",
    "x=[1,2,3,4,5]\n",
    "y=[6,7,8,9,10]\n",
    "\n",
    "# prepare the output file\n",
    "output_file(\"Line_Graph.html\")\n",
    "\n",
    "# Make an object for figure\n",
    "f=figure()\n",
    "\n",
    "# use object to plot linegraph\n",
    "f.line(x,y)\n",
    "show(f)"
   ]
  }
 ],
 "metadata": {
  "kernelspec": {
   "display_name": "Python 3 (ipykernel)",
   "language": "python",
   "name": "python3"
  },
  "language_info": {
   "codemirror_mode": {
    "name": "ipython",
    "version": 3
   },
   "file_extension": ".py",
   "mimetype": "text/x-python",
   "name": "python",
   "nbconvert_exporter": "python",
   "pygments_lexer": "ipython3",
   "version": "3.9.7"
  }
 },
 "nbformat": 4,
 "nbformat_minor": 5
}
